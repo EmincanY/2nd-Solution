{
 "cells": [
  {
   "cell_type": "code",
   "execution_count": 6,
   "metadata": {},
   "outputs": [],
   "source": [
    "import os\n",
    "import pandas as pd\n",
    "\n",
    "import warnings\n",
    "warnings.filterwarnings(\"ignore\")\n",
    "\n",
    "# for dirname, _, filenames in os.walk('/kaggle/input'):\n",
    "#     for filename in filenames:\n",
    "#         print(os.path.join(dirname, filename))\n",
    "        \n",
    "model_path = 'C:/Users/Emincan/Desktop/Playground/syntheticModel'"
   ]
  },
  {
   "cell_type": "code",
   "execution_count": 7,
   "metadata": {},
   "outputs": [],
   "source": [
    "# !pip install transformers==4.26.1 -q"
   ]
  },
  {
   "cell_type": "code",
   "execution_count": 8,
   "metadata": {},
   "outputs": [],
   "source": [
    "# !pip install be_great==0.0.3 -q"
   ]
  },
  {
   "cell_type": "code",
   "execution_count": 11,
   "metadata": {},
   "outputs": [
    {
     "name": "stderr",
     "output_type": "stream",
     "text": [
      "1000048it [14:52:38, 18.67it/s]                              \n"
     ]
    },
    {
     "data": {
      "text/html": [
       "<div>\n",
       "<style scoped>\n",
       "    .dataframe tbody tr th:only-of-type {\n",
       "        vertical-align: middle;\n",
       "    }\n",
       "\n",
       "    .dataframe tbody tr th {\n",
       "        vertical-align: top;\n",
       "    }\n",
       "\n",
       "    .dataframe thead th {\n",
       "        text-align: right;\n",
       "    }\n",
       "</style>\n",
       "<table border=\"1\" class=\"dataframe\">\n",
       "  <thead>\n",
       "    <tr style=\"text-align: right;\">\n",
       "      <th></th>\n",
       "      <th>Sex</th>\n",
       "      <th>Length</th>\n",
       "      <th>Diameter</th>\n",
       "      <th>Height</th>\n",
       "      <th>Weight</th>\n",
       "      <th>Shucked Weight</th>\n",
       "      <th>Viscera Weight</th>\n",
       "      <th>Shell Weight</th>\n",
       "      <th>Age</th>\n",
       "    </tr>\n",
       "    <tr>\n",
       "      <th>id</th>\n",
       "      <th></th>\n",
       "      <th></th>\n",
       "      <th></th>\n",
       "      <th></th>\n",
       "      <th></th>\n",
       "      <th></th>\n",
       "      <th></th>\n",
       "      <th></th>\n",
       "      <th></th>\n",
       "    </tr>\n",
       "  </thead>\n",
       "  <tbody>\n",
       "    <tr>\n",
       "      <th>0</th>\n",
       "      <td>M</td>\n",
       "      <td>1.2125</td>\n",
       "      <td>0.9250</td>\n",
       "      <td>0.325</td>\n",
       "      <td>17.293195</td>\n",
       "      <td>7.711064</td>\n",
       "      <td>3.713785</td>\n",
       "      <td>4.394172</td>\n",
       "      <td>7.0</td>\n",
       "    </tr>\n",
       "    <tr>\n",
       "      <th>1</th>\n",
       "      <td>M</td>\n",
       "      <td>1.4250</td>\n",
       "      <td>1.1000</td>\n",
       "      <td>0.350</td>\n",
       "      <td>26.124064</td>\n",
       "      <td>10.758635</td>\n",
       "      <td>5.358055</td>\n",
       "      <td>8.079607</td>\n",
       "      <td>12.0</td>\n",
       "    </tr>\n",
       "    <tr>\n",
       "      <th>2</th>\n",
       "      <td>M</td>\n",
       "      <td>1.5625</td>\n",
       "      <td>1.2375</td>\n",
       "      <td>0.450</td>\n",
       "      <td>37.109496</td>\n",
       "      <td>16.641157</td>\n",
       "      <td>7.342521</td>\n",
       "      <td>9.227762</td>\n",
       "      <td>9.0</td>\n",
       "    </tr>\n",
       "    <tr>\n",
       "      <th>3</th>\n",
       "      <td>M</td>\n",
       "      <td>1.5625</td>\n",
       "      <td>1.2875</td>\n",
       "      <td>0.425</td>\n",
       "      <td>38.838815</td>\n",
       "      <td>13.182517</td>\n",
       "      <td>9.171063</td>\n",
       "      <td>9.780577</td>\n",
       "      <td>12.0</td>\n",
       "    </tr>\n",
       "    <tr>\n",
       "      <th>4</th>\n",
       "      <td>F</td>\n",
       "      <td>1.4625</td>\n",
       "      <td>1.1250</td>\n",
       "      <td>0.400</td>\n",
       "      <td>25.925618</td>\n",
       "      <td>10.985431</td>\n",
       "      <td>5.202133</td>\n",
       "      <td>7.087375</td>\n",
       "      <td>10.0</td>\n",
       "    </tr>\n",
       "  </tbody>\n",
       "</table>\n",
       "</div>"
      ],
      "text/plain": [
       "   Sex  Length  Diameter  Height     Weight  Shucked Weight  Viscera Weight  \\\n",
       "id                                                                            \n",
       "0    M  1.2125    0.9250   0.325  17.293195        7.711064        3.713785   \n",
       "1    M  1.4250    1.1000   0.350  26.124064       10.758635        5.358055   \n",
       "2    M  1.5625    1.2375   0.450  37.109496       16.641157        7.342521   \n",
       "3    M  1.5625    1.2875   0.425  38.838815       13.182517        9.171063   \n",
       "4    F  1.4625    1.1250   0.400  25.925618       10.985431        5.202133   \n",
       "\n",
       "    Shell Weight   Age  \n",
       "id                      \n",
       "0       4.394172   7.0  \n",
       "1       8.079607  12.0  \n",
       "2       9.227762   9.0  \n",
       "3       9.780577  12.0  \n",
       "4       7.087375  10.0  "
      ]
     },
     "execution_count": 11,
     "metadata": {},
     "output_type": "execute_result"
    }
   ],
   "source": [
    "from be_great import GReaT\n",
    "\n",
    "model = GReaT.load_from_dir(model_path)\n",
    "synthetic_data = model.sample(\n",
    "    n_samples=1000_000,    # change this to generate more samples\n",
    "    k=50,\n",
    "    temperature=0.7,  # values between 0.5-0.9 generally give good results\n",
    "    max_length=256,\n",
    "    device=\"cuda\")\n",
    "synthetic_data = synthetic_data.rename_axis('id')\n",
    "synthetic_data.to_csv('synthetic_data_1000k.csv')\n",
    "synthetic_data.shape\n",
    "synthetic_data.head()"
   ]
  },
  {
   "cell_type": "code",
   "execution_count": 11,
   "metadata": {},
   "outputs": [
    {
     "data": {
      "text/plain": [
       "9.0     32925\n",
       "10.0    30766\n",
       "8.0     26839\n",
       "11.0    23736\n",
       "7.0     18366\n",
       "12.0    12681\n",
       "6.0     12376\n",
       "13.0     9868\n",
       "14.0     6294\n",
       "5.0      5408\n",
       "15.0     4820\n",
       "16.0     3150\n",
       "4.0      2796\n",
       "17.0     2777\n",
       "18.0     1926\n",
       "19.0     1561\n",
       "20.0     1164\n",
       "21.0      714\n",
       "3.0       678\n",
       "23.0      363\n",
       "22.0      313\n",
       "27.0      107\n",
       "24.0       97\n",
       "1.0        61\n",
       "25.0       60\n",
       "26.0       53\n",
       "29.0       51\n",
       "2.0        50\n",
       "Name: Age, dtype: int64"
      ]
     },
     "execution_count": 11,
     "metadata": {},
     "output_type": "execute_result"
    }
   ],
   "source": [
    "synthetic_data.Age.value_counts()"
   ]
  },
  {
   "cell_type": "code",
   "execution_count": null,
   "metadata": {},
   "outputs": [],
   "source": []
  }
 ],
 "metadata": {
  "kernelspec": {
   "display_name": "ml",
   "language": "python",
   "name": "python3"
  },
  "language_info": {
   "codemirror_mode": {
    "name": "ipython",
    "version": 3
   },
   "file_extension": ".py",
   "mimetype": "text/x-python",
   "name": "python",
   "nbconvert_exporter": "python",
   "pygments_lexer": "ipython3",
   "version": "3.10.11"
  },
  "orig_nbformat": 4
 },
 "nbformat": 4,
 "nbformat_minor": 2
}
