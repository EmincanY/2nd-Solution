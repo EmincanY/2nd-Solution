{
 "cells": [
  {
   "attachments": {},
   "cell_type": "markdown",
   "metadata": {},
   "source": [
    "# Imports"
   ]
  },
  {
   "cell_type": "code",
   "execution_count": 1,
   "metadata": {},
   "outputs": [],
   "source": [
    "import os\n",
    "\n",
    "import numpy as np\n",
    "import pandas as pd\n",
    "pd.set_option('display.max_rows', 400)\n",
    "pd.set_option('display.max_columns', None)\n",
    "\n",
    "from sklearn.metrics import mean_absolute_error\n",
    "from sklearn.model_selection import KFold\n",
    "from sklearn.preprocessing import OneHotEncoder\n",
    "\n",
    "import matplotlib.pyplot as plt\n",
    "import matplotlib.colors as plt_colors\n",
    "\n",
    "import optuna\n",
    "from optuna.samplers import TPESampler\n",
    "from optuna.pruners import HyperbandPruner\n",
    "\n",
    "from xgboost import XGBRegressor, plot_importance\n",
    "SEED=53"
   ]
  },
  {
   "attachments": {},
   "cell_type": "markdown",
   "metadata": {},
   "source": [
    "# Data Loading"
   ]
  },
  {
   "cell_type": "code",
   "execution_count": 2,
   "metadata": {},
   "outputs": [
    {
     "name": "stdout",
     "output_type": "stream",
     "text": [
      "train shape :(74051, 9),  test shape :(49368, 8)\n",
      "original shape :(3893, 9)\n",
      "original shape :(200000, 10)\n"
     ]
    }
   ],
   "source": [
    "filepath = r'C:\\Users\\Emincan\\Desktop\\Playgrounds\\Playgrounds3-16(Regression)'\n",
    "\n",
    "train = pd.read_csv(os.path.join(filepath, 'train.csv'), index_col=[0])\n",
    "test = pd.read_csv(os.path.join(filepath, 'test.csv'), index_col=[0])\n",
    "original = pd.read_csv(os.path.join(filepath, 'CrabAgePrediction.csv'))\n",
    "synthetic = pd.read_csv(os.path.join(filepath, 'synthetic_data_200k_07(1).csv'))\n",
    "\n",
    "# train['is_generated'] = 1\n",
    "# test['is_generated'] = 1\n",
    "# original['is_generated'] = 0\n",
    "\n",
    "target = 'Age'\n",
    "num_cols = test.select_dtypes(include=['float64']).columns.tolist()\n",
    "cat_cols = test.select_dtypes(include=['object']).columns.tolist()\n",
    "\n",
    "print(f\"train shape :{train.shape}, \", f\"test shape :{test.shape}\")\n",
    "print(f\"original shape :{original.shape}\")\n",
    "print(f\"original shape :{synthetic.shape}\")"
   ]
  },
  {
   "attachments": {},
   "cell_type": "markdown",
   "metadata": {},
   "source": [
    "# EDA"
   ]
  },
  {
   "cell_type": "code",
   "execution_count": 3,
   "metadata": {},
   "outputs": [
    {
     "data": {
      "text/html": [
       "<div>\n",
       "<style scoped>\n",
       "    .dataframe tbody tr th:only-of-type {\n",
       "        vertical-align: middle;\n",
       "    }\n",
       "\n",
       "    .dataframe tbody tr th {\n",
       "        vertical-align: top;\n",
       "    }\n",
       "\n",
       "    .dataframe thead th {\n",
       "        text-align: right;\n",
       "    }\n",
       "</style>\n",
       "<table border=\"1\" class=\"dataframe\">\n",
       "  <thead>\n",
       "    <tr style=\"text-align: right;\">\n",
       "      <th></th>\n",
       "      <th>Sex</th>\n",
       "      <th>Length</th>\n",
       "      <th>Diameter</th>\n",
       "      <th>Height</th>\n",
       "      <th>Weight</th>\n",
       "      <th>Shucked Weight</th>\n",
       "      <th>Viscera Weight</th>\n",
       "      <th>Shell Weight</th>\n",
       "      <th>Age</th>\n",
       "    </tr>\n",
       "    <tr>\n",
       "      <th>id</th>\n",
       "      <th></th>\n",
       "      <th></th>\n",
       "      <th></th>\n",
       "      <th></th>\n",
       "      <th></th>\n",
       "      <th></th>\n",
       "      <th></th>\n",
       "      <th></th>\n",
       "      <th></th>\n",
       "    </tr>\n",
       "  </thead>\n",
       "  <tbody>\n",
       "    <tr>\n",
       "      <th>0</th>\n",
       "      <td>I</td>\n",
       "      <td>1.5250</td>\n",
       "      <td>1.1750</td>\n",
       "      <td>0.3750</td>\n",
       "      <td>28.973189</td>\n",
       "      <td>12.728926</td>\n",
       "      <td>6.647958</td>\n",
       "      <td>8.348928</td>\n",
       "      <td>9</td>\n",
       "    </tr>\n",
       "    <tr>\n",
       "      <th>1</th>\n",
       "      <td>I</td>\n",
       "      <td>1.1000</td>\n",
       "      <td>0.8250</td>\n",
       "      <td>0.2750</td>\n",
       "      <td>10.418441</td>\n",
       "      <td>4.521745</td>\n",
       "      <td>2.324659</td>\n",
       "      <td>3.401940</td>\n",
       "      <td>8</td>\n",
       "    </tr>\n",
       "    <tr>\n",
       "      <th>2</th>\n",
       "      <td>M</td>\n",
       "      <td>1.3875</td>\n",
       "      <td>1.1125</td>\n",
       "      <td>0.3750</td>\n",
       "      <td>24.777463</td>\n",
       "      <td>11.339800</td>\n",
       "      <td>5.556502</td>\n",
       "      <td>6.662133</td>\n",
       "      <td>9</td>\n",
       "    </tr>\n",
       "    <tr>\n",
       "      <th>3</th>\n",
       "      <td>F</td>\n",
       "      <td>1.7000</td>\n",
       "      <td>1.4125</td>\n",
       "      <td>0.5000</td>\n",
       "      <td>50.660556</td>\n",
       "      <td>20.354941</td>\n",
       "      <td>10.991839</td>\n",
       "      <td>14.996885</td>\n",
       "      <td>11</td>\n",
       "    </tr>\n",
       "    <tr>\n",
       "      <th>4</th>\n",
       "      <td>I</td>\n",
       "      <td>1.2500</td>\n",
       "      <td>1.0125</td>\n",
       "      <td>0.3375</td>\n",
       "      <td>23.289114</td>\n",
       "      <td>11.977664</td>\n",
       "      <td>4.507570</td>\n",
       "      <td>5.953395</td>\n",
       "      <td>8</td>\n",
       "    </tr>\n",
       "  </tbody>\n",
       "</table>\n",
       "</div>"
      ],
      "text/plain": [
       "   Sex  Length  Diameter  Height     Weight  Shucked Weight  Viscera Weight  \\\n",
       "id                                                                            \n",
       "0    I  1.5250    1.1750  0.3750  28.973189       12.728926        6.647958   \n",
       "1    I  1.1000    0.8250  0.2750  10.418441        4.521745        2.324659   \n",
       "2    M  1.3875    1.1125  0.3750  24.777463       11.339800        5.556502   \n",
       "3    F  1.7000    1.4125  0.5000  50.660556       20.354941       10.991839   \n",
       "4    I  1.2500    1.0125  0.3375  23.289114       11.977664        4.507570   \n",
       "\n",
       "    Shell Weight  Age  \n",
       "id                     \n",
       "0       8.348928    9  \n",
       "1       3.401940    8  \n",
       "2       6.662133    9  \n",
       "3      14.996885   11  \n",
       "4       5.953395    8  "
      ]
     },
     "metadata": {},
     "output_type": "display_data"
    }
   ],
   "source": [
    "display(train.head())\n",
    "features = train.columns.drop([target]).to_list()"
   ]
  },
  {
   "cell_type": "code",
   "execution_count": 4,
   "metadata": {},
   "outputs": [
    {
     "name": "stdout",
     "output_type": "stream",
     "text": [
      "Train's shape: (74051, 9)\n",
      "Test's shape: (49368, 8)\n"
     ]
    }
   ],
   "source": [
    "print(f'Train\\'s shape: {train.shape}')\n",
    "print(f'Test\\'s shape: {test.shape}')"
   ]
  },
  {
   "cell_type": "code",
   "execution_count": 5,
   "metadata": {},
   "outputs": [
    {
     "name": "stdout",
     "output_type": "stream",
     "text": [
      "Age's type: int64\n",
      "Interval: [1, 29]\n"
     ]
    }
   ],
   "source": [
    "# Target column is of type integer between 1-29\n",
    "print(f'{target}\\'s type: {train[target].dtype}')\n",
    "print(f'Interval: [{np.min(train[target])}, {np.max(train[target])}]')"
   ]
  },
  {
   "attachments": {},
   "cell_type": "markdown",
   "metadata": {},
   "source": [
    "# Data Preprocessing"
   ]
  },
  {
   "cell_type": "code",
   "execution_count": 6,
   "metadata": {},
   "outputs": [],
   "source": [
    "enc = OneHotEncoder() \n",
    "ohe_train = pd.DataFrame(enc.fit_transform(train[cat_cols]).toarray(), columns=enc.get_feature_names_out())\n",
    "train.drop(cat_cols, axis=1, inplace=True)\n",
    "train = pd.concat([train, ohe_train], axis=1)\n",
    "\n",
    "ohe_test = pd.DataFrame(enc.transform(test[cat_cols]).toarray(), columns=enc.get_feature_names_out())\n",
    "test.drop(cat_cols, axis=1, inplace=True)\n",
    "test = pd.concat([test, ohe_test], axis=1)\n",
    "\n",
    "features = train.columns.drop([target]).to_list()"
   ]
  },
  {
   "attachments": {},
   "cell_type": "markdown",
   "metadata": {},
   "source": [
    "# Split the Dataset for training"
   ]
  },
  {
   "cell_type": "code",
   "execution_count": 7,
   "metadata": {},
   "outputs": [],
   "source": [
    "y_train = train[target]\n",
    "train = train[features]\n",
    "test = test[features]"
   ]
  },
  {
   "attachments": {},
   "cell_type": "markdown",
   "metadata": {},
   "source": [
    "# Hyperparameters tuning(Optuna)"
   ]
  },
  {
   "cell_type": "code",
   "execution_count": 8,
   "metadata": {},
   "outputs": [],
   "source": [
    "def create_model(param):\n",
    "    return XGBRegressor(random_state=SEED,  \n",
    "                        tree_method='gpu_hist',\n",
    "                        eval_metric= 'mae',\n",
    "                        objective='reg:absoluteerror',\n",
    "                        early_stopping_rounds=100,\n",
    "                        **param\n",
    "                       )"
   ]
  },
  {
   "cell_type": "code",
   "execution_count": 9,
   "metadata": {},
   "outputs": [],
   "source": [
    "def train_model(param, X, y, X_test, n_splits=5, trial=None): \n",
    "    \n",
    "    skf = KFold(n_splits=n_splits, shuffle=True, random_state=SEED)\n",
    "    \n",
    "    y_test = []\n",
    "    validation = y.copy(deep=True)\n",
    "    validation_scores = []\n",
    "    models = []\n",
    "\n",
    "    \n",
    "    for fold, (idx_train, idx_val) in enumerate(skf.split(X, y)):\n",
    "        print(f'Fold: {fold+1}/{n_splits}')      \n",
    "\n",
    "        X_train, y_train = X.iloc[idx_train], y.iloc[idx_train]\n",
    "        X_val, y_val = X.iloc[idx_val], y.iloc[idx_val]\n",
    "        \n",
    "        model = create_model(param)\n",
    "        \n",
    "        model.fit(X_train, y_train,\n",
    "                 eval_set=[(X_train, y_train), (X_val, y_val)],\n",
    "                 verbose=1000,\n",
    "                )\n",
    "        \n",
    "        y_hat_val = model.predict(X_val)\n",
    "        validation.iloc[y_val.index] = y_hat_val\n",
    "        score = mean_absolute_error(y_val.values, y_hat_val)\n",
    "        validation_scores.append(score)\n",
    "        print(f'Fold: {fold+1}/{n_splits} score = {score:.5f}')\n",
    "        \n",
    "        \n",
    "        y_test.append(model.predict(X_test))\n",
    "        models.append(model)\n",
    " \n",
    "        if trial:\n",
    "            trial.report(score, fold)\n",
    "\n",
    "            if trial.should_prune():\n",
    "                raise optuna.TrialPruned()    \n",
    "    \n",
    "    return validation, y_test, validation_scores, models"
   ]
  },
  {
   "cell_type": "code",
   "execution_count": 10,
   "metadata": {},
   "outputs": [
    {
     "name": "stderr",
     "output_type": "stream",
     "text": [
      "[I 2023-07-14 03:01:18,576] A new study created in memory with name: xgb_tuning\n"
     ]
    },
    {
     "name": "stdout",
     "output_type": "stream",
     "text": [
      "Fold: 1/8\n",
      "[0]\tvalidation_0-mae:1.49030\tvalidation_1-mae:1.49924\n",
      "[118]\tvalidation_0-mae:1.33902\tvalidation_1-mae:1.45738\n",
      "Fold: 1/8 score = 1.40893\n",
      "Fold: 2/8\n",
      "[0]\tvalidation_0-mae:1.49336\tvalidation_1-mae:1.50227\n",
      "[114]\tvalidation_0-mae:1.34937\tvalidation_1-mae:1.43991\n",
      "Fold: 2/8 score = 1.39092\n",
      "Fold: 3/8\n",
      "[0]\tvalidation_0-mae:1.49557\tvalidation_1-mae:1.47051\n",
      "[107]\tvalidation_0-mae:1.35999\tvalidation_1-mae:1.41022\n",
      "Fold: 3/8 score = 1.37955\n",
      "Fold: 4/8\n",
      "[0]\tvalidation_0-mae:1.50178\tvalidation_1-mae:1.49752\n",
      "[134]\tvalidation_0-mae:1.33893\tvalidation_1-mae:1.43472\n",
      "Fold: 4/8 score = 1.39199\n",
      "Fold: 5/8\n",
      "[0]\tvalidation_0-mae:1.47928\tvalidation_1-mae:1.47083\n",
      "[108]\tvalidation_0-mae:1.34537\tvalidation_1-mae:1.44147\n",
      "Fold: 5/8 score = 1.39142\n",
      "Fold: 6/8\n",
      "[0]\tvalidation_0-mae:1.49897\tvalidation_1-mae:1.54948\n",
      "[111]\tvalidation_0-mae:1.34153\tvalidation_1-mae:1.49120\n",
      "Fold: 6/8 score = 1.43893\n",
      "Fold: 7/8\n",
      "[0]\tvalidation_0-mae:1.49041\tvalidation_1-mae:1.46683\n",
      "[118]\tvalidation_0-mae:1.34960\tvalidation_1-mae:1.42993\n",
      "Fold: 7/8 score = 1.38391\n",
      "Fold: 8/8\n",
      "[0]\tvalidation_0-mae:1.48952\tvalidation_1-mae:1.52501\n",
      "[115]\tvalidation_0-mae:1.33824\tvalidation_1-mae:1.46789\n"
     ]
    },
    {
     "name": "stderr",
     "output_type": "stream",
     "text": [
      "[I 2023-07-14 03:01:22,225] Trial 0 finished with value: 1.4014682448582734 and parameters: {'booster': 'gbtree', 'lambda': 4.3551510196757946e-05, 'alpha': 6.567488326823929e-06, 'subsample': 0.6686811073078698, 'colsample_bytree': 0.6285997954184606, 'n_estimators': 900, 'max_depth': 5, 'min_child_weight': 6, 'eta': 6.057315331886634e-06, 'gamma': 1.1907664188208343e-07, 'grow_policy': 'depthwise'}. Best is trial 0 with value: 1.4014682448582734.\n"
     ]
    },
    {
     "name": "stdout",
     "output_type": "stream",
     "text": [
      "Fold: 8/8 score = 1.42609\n",
      "Fold: 1/8\n",
      "[0]\tvalidation_0-mae:1.44290\tvalidation_1-mae:1.45031\n",
      "[103]\tvalidation_0-mae:1.51108\tvalidation_1-mae:1.74527\n",
      "Fold: 1/8 score = 1.41812\n",
      "Fold: 2/8\n",
      "[0]\tvalidation_0-mae:1.45211\tvalidation_1-mae:1.45058\n",
      "[102]\tvalidation_0-mae:1.51585\tvalidation_1-mae:1.78253\n",
      "Fold: 2/8 score = 1.42209\n",
      "Fold: 3/8\n",
      "[0]\tvalidation_0-mae:1.45686\tvalidation_1-mae:1.45031\n",
      "[101]\tvalidation_0-mae:1.51953\tvalidation_1-mae:1.78513\n",
      "Fold: 3/8 score = 1.40526\n",
      "Fold: 4/8\n",
      "[0]\tvalidation_0-mae:1.46234\tvalidation_1-mae:1.45905\n",
      "[102]\tvalidation_0-mae:1.52862\tvalidation_1-mae:1.80007\n",
      "Fold: 4/8 score = 1.41122\n",
      "Fold: 5/8\n",
      "[0]\tvalidation_0-mae:1.45565\tvalidation_1-mae:1.45743\n",
      "[101]\tvalidation_0-mae:1.52511\tvalidation_1-mae:1.77467\n",
      "Fold: 5/8 score = 1.40314\n",
      "Fold: 6/8\n",
      "[0]\tvalidation_0-mae:1.44834\tvalidation_1-mae:1.48579\n",
      "[101]\tvalidation_0-mae:1.51336\tvalidation_1-mae:1.79510\n",
      "Fold: 6/8 score = 1.45125\n",
      "Fold: 7/8\n",
      "[0]\tvalidation_0-mae:1.46125\tvalidation_1-mae:1.46013\n",
      "[103]\tvalidation_0-mae:1.50700\tvalidation_1-mae:1.76746\n",
      "Fold: 7/8 score = 1.41673\n",
      "Fold: 8/8\n",
      "[0]\tvalidation_0-mae:1.45700\tvalidation_1-mae:1.49773\n",
      "[101]\tvalidation_0-mae:1.51823\tvalidation_1-mae:1.83858\n"
     ]
    },
    {
     "name": "stderr",
     "output_type": "stream",
     "text": [
      "[I 2023-07-14 03:01:32,423] Trial 1 finished with value: 1.4226073922026712 and parameters: {'booster': 'gbtree', 'lambda': 0.00028435664810945937, 'alpha': 0.15134094273094537, 'subsample': 0.3338767096051072, 'colsample_bytree': 0.5257651358638613, 'n_estimators': 700, 'max_depth': 7, 'min_child_weight': 7, 'eta': 0.00015661768375919782, 'gamma': 0.0007255046398582566, 'grow_policy': 'lossguide'}. Best is trial 0 with value: 1.4014682448582734.\n"
     ]
    },
    {
     "name": "stdout",
     "output_type": "stream",
     "text": [
      "Fold: 8/8 score = 1.45306\n",
      "Fold: 1/8\n",
      "[0]\tvalidation_0-mae:1.48170\tvalidation_1-mae:1.52387\n",
      "[101]\tvalidation_0-mae:1.36224\tvalidation_1-mae:1.79697\n",
      "Fold: 1/8 score = 1.47355\n",
      "Fold: 2/8\n",
      "[0]\tvalidation_0-mae:1.49660\tvalidation_1-mae:1.52420\n",
      "[103]\tvalidation_0-mae:1.29201\tvalidation_1-mae:1.74882\n",
      "Fold: 2/8 score = 1.46669\n",
      "Fold: 3/8\n",
      "[0]\tvalidation_0-mae:1.48667\tvalidation_1-mae:1.49535\n",
      "[100]\tvalidation_0-mae:1.46384\tvalidation_1-mae:1.86504\n",
      "Fold: 3/8 score = 1.45815\n",
      "Fold: 4/8\n",
      "[0]\tvalidation_0-mae:1.48345\tvalidation_1-mae:1.49703\n",
      "[103]\tvalidation_0-mae:1.29693\tvalidation_1-mae:1.71601\n"
     ]
    },
    {
     "name": "stderr",
     "output_type": "stream",
     "text": [
      "[I 2023-07-14 03:02:07,357] Trial 2 pruned. \n"
     ]
    },
    {
     "name": "stdout",
     "output_type": "stream",
     "text": [
      "Fold: 4/8 score = 1.44972\n",
      "Fold: 1/8\n",
      "[0]\tvalidation_0-mae:1.41711\tvalidation_1-mae:1.44988\n",
      "[101]\tvalidation_0-mae:1.37270\tvalidation_1-mae:1.93822\n",
      "Fold: 1/8 score = 1.43219\n",
      "Fold: 2/8\n",
      "[0]\tvalidation_0-mae:1.41438\tvalidation_1-mae:1.45036\n",
      "[101]\tvalidation_0-mae:1.36822\tvalidation_1-mae:1.94345\n"
     ]
    },
    {
     "name": "stderr",
     "output_type": "stream",
     "text": [
      "[I 2023-07-14 03:02:13,475] Trial 3 pruned. \n"
     ]
    },
    {
     "name": "stdout",
     "output_type": "stream",
     "text": [
      "Fold: 2/8 score = 1.43778\n",
      "Fold: 1/8\n",
      "[0]\tvalidation_0-mae:1.70647\tvalidation_1-mae:1.72118\n",
      "[399]\tvalidation_0-mae:1.42529\tvalidation_1-mae:1.42795\n",
      "Fold: 1/8 score = 1.42708\n",
      "Fold: 2/8\n",
      "[0]\tvalidation_0-mae:1.70423\tvalidation_1-mae:1.71427\n",
      "[209]\tvalidation_0-mae:1.42490\tvalidation_1-mae:1.43027\n",
      "Fold: 2/8 score = 1.42827\n",
      "Fold: 3/8\n",
      "[0]\tvalidation_0-mae:1.71135\tvalidation_1-mae:1.69115\n",
      "[357]\tvalidation_0-mae:1.40928\tvalidation_1-mae:1.39970\n",
      "Fold: 3/8 score = 1.39894\n",
      "Fold: 4/8\n",
      "[0]\tvalidation_0-mae:1.71118\tvalidation_1-mae:1.70689\n",
      "[258]\tvalidation_0-mae:1.42249\tvalidation_1-mae:1.42772\n"
     ]
    },
    {
     "name": "stderr",
     "output_type": "stream",
     "text": [
      "[I 2023-07-14 03:02:17,017] Trial 4 pruned. \n"
     ]
    },
    {
     "name": "stdout",
     "output_type": "stream",
     "text": [
      "Fold: 4/8 score = 1.42718\n",
      "Fold: 1/8\n",
      "[0]\tvalidation_0-mae:1.69102\tvalidation_1-mae:1.70714\n",
      "[311]\tvalidation_0-mae:1.37958\tvalidation_1-mae:1.39438\n",
      "Fold: 1/8 score = 1.39297\n",
      "Fold: 2/8\n",
      "[0]\tvalidation_0-mae:1.69045\tvalidation_1-mae:1.71114\n",
      "[135]\tvalidation_0-mae:1.39993\tvalidation_1-mae:1.39602\n"
     ]
    },
    {
     "name": "stderr",
     "output_type": "stream",
     "text": [
      "[I 2023-07-14 03:02:18,406] Trial 5 pruned. \n"
     ]
    },
    {
     "name": "stdout",
     "output_type": "stream",
     "text": [
      "Fold: 2/8 score = 1.39376\n",
      "Fold: 1/8\n",
      "[0]\tvalidation_0-mae:1.43079\tvalidation_1-mae:1.43767\n",
      "[104]\tvalidation_0-mae:1.21755\tvalidation_1-mae:1.48623\n",
      "Fold: 1/8 score = 1.38247\n",
      "Fold: 2/8\n",
      "[0]\tvalidation_0-mae:1.42894\tvalidation_1-mae:1.43994\n",
      "[105]\tvalidation_0-mae:1.21312\tvalidation_1-mae:1.49314\n",
      "Fold: 2/8 score = 1.38312\n",
      "Fold: 3/8\n",
      "[0]\tvalidation_0-mae:1.42560\tvalidation_1-mae:1.42724\n",
      "[106]\tvalidation_0-mae:1.20716\tvalidation_1-mae:1.49793\n",
      "Fold: 3/8 score = 1.38873\n",
      "Fold: 4/8\n",
      "[0]\tvalidation_0-mae:1.42175\tvalidation_1-mae:1.42745\n",
      "[104]\tvalidation_0-mae:1.21408\tvalidation_1-mae:1.47270\n",
      "Fold: 4/8 score = 1.39094\n",
      "Fold: 5/8\n",
      "[0]\tvalidation_0-mae:1.42520\tvalidation_1-mae:1.43231\n",
      "[103]\tvalidation_0-mae:1.23082\tvalidation_1-mae:1.49141\n",
      "Fold: 5/8 score = 1.38964\n",
      "Fold: 6/8\n",
      "[0]\tvalidation_0-mae:1.42219\tvalidation_1-mae:1.46910\n",
      "[102]\tvalidation_0-mae:1.19939\tvalidation_1-mae:1.54071\n",
      "Fold: 6/8 score = 1.42878\n",
      "Fold: 7/8\n",
      "[0]\tvalidation_0-mae:1.42492\tvalidation_1-mae:1.41357\n",
      "[103]\tvalidation_0-mae:1.20659\tvalidation_1-mae:1.50447\n",
      "Fold: 7/8 score = 1.38399\n",
      "Fold: 8/8\n",
      "[0]\tvalidation_0-mae:1.42421\tvalidation_1-mae:1.47175\n",
      "[103]\tvalidation_0-mae:1.21230\tvalidation_1-mae:1.53010\n"
     ]
    },
    {
     "name": "stderr",
     "output_type": "stream",
     "text": [
      "[I 2023-07-14 03:02:22,491] Trial 6 finished with value: 1.3976617466340766 and parameters: {'booster': 'gbtree', 'lambda': 3.503102820160236e-07, 'alpha': 0.00021161314992090908, 'subsample': 0.8998366717589052, 'colsample_bytree': 0.6619057226379685, 'n_estimators': 400, 'max_depth': 7, 'min_child_weight': 3, 'eta': 0.002326158156495611, 'gamma': 0.08832868179076325, 'grow_policy': 'depthwise'}. Best is trial 6 with value: 1.3976617466340766.\n"
     ]
    },
    {
     "name": "stdout",
     "output_type": "stream",
     "text": [
      "Fold: 8/8 score = 1.43364\n"
     ]
    }
   ],
   "source": [
    "def objective_xgb(trial):\n",
    "       \n",
    "    param = {\n",
    "        'booster': trial.suggest_categorical('booster', ['gbtree', 'dart']), \n",
    "        'lambda': trial.suggest_float('lambda', 1e-8, 1.0, log=True),\n",
    "        'alpha': trial.suggest_float('alpha', 1e-8, 1.0, log=True),\n",
    "        'subsample': trial.suggest_float('subsample', 0.2, 1.0),\n",
    "        'colsample_bytree': trial.suggest_float('colsample_bytree', 0.2, 1.0),\n",
    "        'n_estimators' : trial.suggest_int('n_estimators', 100, 1000, step=100)\n",
    "    }\n",
    "    if(param['booster'] in ['gbtree', 'dart']):\n",
    "        # maximum depth of the tree, signifies complexity of the tree.\n",
    "        param['max_depth'] = trial.suggest_int('max_depth', 3, 9, step=2)\n",
    "        # minimum child weight, larger the term more conservative the tree.\n",
    "        param['min_child_weight'] = trial.suggest_int('min_child_weight', 2, 10)\n",
    "        param['eta'] = trial.suggest_float('eta', 1e-8, 1.0, log=True)\n",
    "        # defines how selective algorithm is.\n",
    "        param['gamma'] = trial.suggest_float('gamma', 1e-8, 1.0, log=True)\n",
    "        param['grow_policy'] = trial.suggest_categorical('grow_policy', ['depthwise', 'lossguide'])\n",
    "\n",
    "    if(param['booster'] == 'dart'):\n",
    "        param['sample_type'] = trial.suggest_categorical('sample_type', ['uniform', 'weighted'])\n",
    "        param['normalize_type'] = trial.suggest_categorical('normalize_type', ['tree', 'forest'])\n",
    "        param['rate_drop'] = trial.suggest_float('rate_drop', 1e-8, 1.0, log=True)\n",
    "        param['skip_drop'] = trial.suggest_float('skip_drop', 1e-8, 1.0, log=True)\n",
    "\n",
    "    validation, y_hat_test, validation_scores, trained_models = train_model(param, train, y_train, test, 8, trial) # matches the max_resource\n",
    "    \n",
    "    return mean_absolute_error(y_train.values, validation)\n",
    "    \n",
    "    \n",
    "study = optuna.create_study(\n",
    "    sampler=TPESampler(seed=SEED),\n",
    "    direction='minimize',\n",
    "    study_name='xgb_tuning',\n",
    "    pruner=HyperbandPruner(\n",
    "        min_resource=1, max_resource=8, reduction_factor=3\n",
    "    ),\n",
    ")\n",
    "study.optimize(objective_xgb, n_trials=1000, timeout=7*60*60)"
   ]
  },
  {
   "cell_type": "code",
   "execution_count": 11,
   "metadata": {},
   "outputs": [
    {
     "name": "stdout",
     "output_type": "stream",
     "text": [
      "Number of finished trials: 7\n",
      "Best trial:\n",
      "  Score: 1.39766\n",
      "  Params: {'booster': 'gbtree', 'lambda': 3.503102820160236e-07, 'alpha': 0.00021161314992090908, 'subsample': 0.8998366717589052, 'colsample_bytree': 0.6619057226379685, 'n_estimators': 400, 'max_depth': 7, 'min_child_weight': 3, 'eta': 0.002326158156495611, 'gamma': 0.08832868179076325, 'grow_policy': 'depthwise'}\n"
     ]
    }
   ],
   "source": [
    "print(f'Number of finished trials: {len(study.trials)}')\n",
    "print('Best trial:')\n",
    "trial = study.best_trial\n",
    "print(f'  Score: {trial.value:.5f}')\n",
    "print(f'  Params: {trial.params}')"
   ]
  },
  {
   "attachments": {},
   "cell_type": "markdown",
   "metadata": {},
   "source": [
    "# Best parameters"
   ]
  },
  {
   "cell_type": "code",
   "execution_count": 12,
   "metadata": {},
   "outputs": [],
   "source": [
    "best_params = {'booster': 'dart', 'lambda': 1.3564242299917567e-06, 'alpha': 6.657736811017855e-08, 'subsample': 0.9987885488425374, 'colsample_bytree': 0.9748449420972439, 'n_estimators': 200, 'max_depth': 7, 'min_child_weight': 10, 'eta': 6.015791017774553e-07, 'gamma': 0.5513468186878823, 'grow_policy': 'depthwise', 'sample_type': 'uniform', 'normalize_type': 'forest', 'rate_drop': 2.765721277981557e-05, 'skip_drop': 3.569660132300492e-05}"
   ]
  },
  {
   "cell_type": "code",
   "execution_count": 13,
   "metadata": {},
   "outputs": [],
   "source": [
    "# Done."
   ]
  }
 ],
 "metadata": {
  "kernelspec": {
   "display_name": "ml",
   "language": "python",
   "name": "python3"
  },
  "language_info": {
   "codemirror_mode": {
    "name": "ipython",
    "version": 3
   },
   "file_extension": ".py",
   "mimetype": "text/x-python",
   "name": "python",
   "nbconvert_exporter": "python",
   "pygments_lexer": "ipython3",
   "version": "3.10.11"
  },
  "orig_nbformat": 4
 },
 "nbformat": 4,
 "nbformat_minor": 2
}
